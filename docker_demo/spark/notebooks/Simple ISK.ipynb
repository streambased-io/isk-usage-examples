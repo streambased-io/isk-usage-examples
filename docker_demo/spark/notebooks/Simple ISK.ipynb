{
 "cells": [
  {
   "cell_type": "code",
   "execution_count": null,
   "id": "e9cb2a88-629f-4cba-a6ce-7c60f78288c7",
   "metadata": {},
   "outputs": [],
   "source": [
    "from pyspark.sql import SparkSession\n",
    "spark = SparkSession.builder.appName(\"Jupyter\").getOrCreate()\n",
    "\n",
    "spark"
   ]
  },
  {
   "cell_type": "code",
   "execution_count": null,
   "id": "ffb8a488-fff6-41d4-a45a-42ebd1feedec",
   "metadata": {},
   "outputs": [],
   "source": [
    "%%sql\n",
    "--  Set namespace to ISK\n",
    "    \n",
    "    USE isk;"
   ]
  },
  {
   "cell_type": "code",
   "execution_count": null,
   "id": "61bf2413-5ae3-41ad-8117-43376e58ecff",
   "metadata": {},
   "outputs": [],
   "source": [
    "%%sql\n",
    "--  List tables (topics)    \n",
    "    \n",
    "    SHOW tables;"
   ]
  },
  {
   "cell_type": "code",
   "execution_count": null,
   "id": "52bab993-76e2-4213-a886-4e255f9f639e",
   "metadata": {},
   "outputs": [],
   "source": [
    "%%sql\n",
    "--  Select first 10 results from table (topic)\n",
    "    \n",
    "    SELECT * FROM YOUR_TABLE_NAME LIMIT 10;"
   ]
  },
  {
   "cell_type": "code",
   "execution_count": null,
   "id": "300473bb-591e-4f81-9793-7b6707b6cee6",
   "metadata": {},
   "outputs": [],
   "source": []
  }
 ],
 "metadata": {
  "kernelspec": {
   "display_name": "Python 3 (ipykernel)",
   "language": "python",
   "name": "python3"
  },
  "language_info": {
   "codemirror_mode": {
    "name": "ipython",
    "version": 3
   },
   "file_extension": ".py",
   "mimetype": "text/x-python",
   "name": "python",
   "nbconvert_exporter": "python",
   "pygments_lexer": "ipython3",
   "version": "3.9.18"
  }
 },
 "nbformat": 4,
 "nbformat_minor": 5
}
